{
 "cells": [
  {
   "cell_type": "code",
   "execution_count": 2,
   "id": "d3eee435-8b34-456e-b650-34c144d79f52",
   "metadata": {},
   "outputs": [
    {
     "name": "stdout",
     "output_type": "stream",
     "text": [
      "The autoreload extension is already loaded. To reload it, use:\n",
      "  %reload_ext autoreload\n"
     ]
    }
   ],
   "source": [
    "%load_ext autoreload\n",
    "%autoreload 2\n",
    "import sys\n",
    "sys.path.append('../')\n",
    "import pandas as pd\n",
    "pd.options.display.max_columns=None"
   ]
  },
  {
   "cell_type": "code",
   "execution_count": null,
   "id": "0562afdc-45d4-48fa-ad6c-7feb4ea656aa",
   "metadata": {
    "tags": []
   },
   "outputs": [],
   "source": [
    "from src.client import ClientHelper\n",
    "from src.analyse import OrdersAnalyser"
   ]
  },
  {
   "cell_type": "code",
   "execution_count": null,
   "id": "89101fbd-75ca-421b-b289-95c82fbd81c8",
   "metadata": {},
   "outputs": [],
   "source": [
    "client_helper = ClientHelper()\n",
    "orders = client_helper.get_all_orders()"
   ]
  },
  {
   "cell_type": "code",
   "execution_count": null,
   "id": "feec9795-65ef-4bf0-a497-2da33c8d62b1",
   "metadata": {},
   "outputs": [],
   "source": [
    "order_analyser = OrdersAnalyser(orders)\n",
    "mean_price = order_analyser.calculate_mean_price()\n",
    "display(mean_price)"
   ]
  },
  {
   "cell_type": "code",
   "execution_count": null,
   "id": "bb54f7cf-f7eb-44bd-88e3-594e260c2d8f",
   "metadata": {},
   "outputs": [],
   "source": [
    "import plotly.express as px\n",
    "orders = order_analyser.orders\n",
    "fig = px.scatter(orders[orders['base_coin']=='ETH'], x='time', y=\"price\",\n",
    "                 size='executedQty')\n",
    "fig.show()"
   ]
  },
  {
   "cell_type": "code",
   "execution_count": null,
   "id": "13492a7f-7485-4946-8244-298c6778550b",
   "metadata": {},
   "outputs": [],
   "source": [
    "client = client_helper.client\n",
    "prices = client.get_all_tickers()"
   ]
  },
  {
   "cell_type": "code",
   "execution_count": null,
   "id": "90844cdd-634e-44c2-b459-a65743c1e359",
   "metadata": {},
   "outputs": [],
   "source": [
    "main_currency = 'USDT'\n",
    "prices = pd.DataFrame(prices)\n",
    "prices = prices[prices['symbol'].apply(lambda x: x[-len(main_currency):]==main_currency)]\n",
    "prices['base_coin'] = prices['symbol'].apply(lambda x:x[:-len(main_currency)])\n",
    "prices['quote_coin'] = main_currency\n",
    "prices = prices.drop('symbol', axis=1)\n",
    "eth_price = prices.loc[prices['base_coin']=='ETH', 'price'].item()\n",
    "prices = pd.concat([prices, pd.DataFrame([{'price':eth_price, 'base_coin':'BETH', 'quote_coin':'USDT'}])])\n",
    "prices['price'] = prices['price'].astype(float)\n",
    "prices = pd.concat([prices, pd.DataFrame([{'price':1, 'base_coin':'USDT', 'quote_coin':'USDT'}])])"
   ]
  },
  {
   "cell_type": "code",
   "execution_count": null,
   "id": "304943f2-d332-43d3-88df-14fd87700cef",
   "metadata": {},
   "outputs": [],
   "source": [
    "history_assets = client_helper.get_history_assets('SPOT')\n",
    "plot_df = history_assets.drop(['type', 'totalAssetOfBtc'], axis=1)\n",
    "for c in ['RUB', 'USDT']:\n",
    "    plot_df[c] = plot_df[c].apply(lambda x:x[:-2])"
   ]
  },
  {
   "cell_type": "code",
   "execution_count": null,
   "id": "c19d3b94-731a-4050-a387-9ec2a4b93220",
   "metadata": {},
   "outputs": [],
   "source": [
    "import plotly.graph_objects as go\n",
    "for c in labels:\n",
    "    plot_df[c] = plot_df[c].astype(float)\n",
    "labels = plot_df.columns[1:]\n",
    "labels = [c for c in labels if c!='RUB']\n",
    "values = plot_df[labels].iloc[-1]\n",
    "for i, coin in enumerate(labels):\n",
    "    price = prices.loc[prices['base_coin']==coin, 'price'].item()\n",
    "    values[i]*=price\n",
    "fig = go.Figure(data=[go.Pie(labels=labels, values=values, textinfo='label',)])\n",
    "fig.show()"
   ]
  },
  {
   "cell_type": "code",
   "execution_count": null,
   "id": "c7129b67-cbdd-4b44-b07c-4684b42dca54",
   "metadata": {},
   "outputs": [],
   "source": [
    "df = px.data.tips()\n",
    "fig = px.pie(plot_df)\n",
    "fig.show()"
   ]
  },
  {
   "cell_type": "code",
   "execution_count": null,
   "id": "fa4e5bf4-4ab8-475b-a437-7c2d68605a18",
   "metadata": {},
   "outputs": [],
   "source": [
    "\n",
    "# get market depth\n",
    "depth = client.get_order_book(symbol='BNBBTC')\n",
    "\n",
    "# place a test market buy order, to place an actual order use the create_order function\n",
    "order = client.create_test_order(\n",
    "    symbol='BNBBTC',\n",
    "    side=Client.SIDE_BUY,\n",
    "    type=Client.ORDER_TYPE_MARKET,\n",
    "    quantity=100)\n",
    "\n",
    "# get all symbol prices\n",
    "prices = client.get_all_tickers()\n",
    "\n",
    "# withdraw 100 ETH\n",
    "# check docs for assumptions around withdrawals\n",
    "from binance.exceptions import BinanceAPIException\n",
    "try:\n",
    "    result = client.withdraw(\n",
    "        asset='ETH',\n",
    "        address='<eth_address>',\n",
    "        amount=100)\n",
    "except BinanceAPIException as e:\n",
    "    print(e)\n",
    "else:\n",
    "    print(\"Success\")\n",
    "\n",
    "# fetch list of withdrawals\n",
    "withdraws = client.get_withdraw_history()\n",
    "\n",
    "# fetch list of ETH withdrawals\n",
    "eth_withdraws = client.get_withdraw_history(coin='ETH')\n",
    "\n",
    "# get a deposit address for BTC\n",
    "address = client.get_deposit_address(coin='BTC')\n",
    "\n",
    "# get historical kline data from any date range\n",
    "\n",
    "# fetch 1 minute klines for the last day up until now\n",
    "klines = client.get_historical_klines(\"BNBBTC\", Client.KLINE_INTERVAL_1MINUTE, \"1 day ago UTC\")\n",
    "\n",
    "# fetch 30 minute klines for the last month of 2017\n",
    "klines = client.get_historical_klines(\"ETHBTC\", Client.KLINE_INTERVAL_30MINUTE, \"1 Dec, 2017\", \"1 Jan, 2018\")\n",
    "\n",
    "# fetch weekly klines since it listed\n",
    "klines = client.get_historical_klines(\"NEOBTC\", Client.KLINE_INTERVAL_1WEEK, \"1 Jan, 2017\")\n",
    "\n",
    "# socket manager using threads\n",
    "twm = ThreadedWebsocketManager()\n",
    "twm.start()\n",
    "\n",
    "# depth cache manager using threads\n",
    "dcm = ThreadedDepthCacheManager()\n",
    "dcm.start()\n",
    "\n",
    "def handle_socket_message(msg):\n",
    "    print(f\"message type: {msg['e']}\")\n",
    "    print(msg)\n",
    "\n",
    "def handle_dcm_message(depth_cache):\n",
    "    print(f\"symbol {depth_cache.symbol}\")\n",
    "    print(\"top 5 bids\")\n",
    "    print(depth_cache.get_bids()[:5])\n",
    "    print(\"top 5 asks\")\n",
    "    print(depth_cache.get_asks()[:5])\n",
    "    print(\"last update time {}\".format(depth_cache.update_time))\n",
    "\n",
    "twm.start_kline_socket(callback=handle_socket_message, symbol='BNBBTC')\n",
    "\n",
    "dcm.start_depth_cache(callback=handle_dcm_message, symbol='ETHBTC')\n",
    "\n",
    "# replace with a current options symbol\n",
    "options_symbol = 'BTC-210430-36000-C'\n",
    "dcm.start_options_depth_cache(callback=handle_dcm_message, symbol=options_symbol)\n",
    "\n",
    "# join the threaded managers to the main thread\n",
    "twm.join()\n",
    "dcm.join()"
   ]
  },
  {
   "cell_type": "code",
   "execution_count": null,
   "id": "72db0548-63d1-4d8e-bcff-72cde1018cec",
   "metadata": {},
   "outputs": [],
   "source": []
  }
 ],
 "metadata": {
  "kernelspec": {
   "display_name": "Python 3",
   "language": "python",
   "name": "python3"
  },
  "language_info": {
   "codemirror_mode": {
    "name": "ipython",
    "version": 3
   },
   "file_extension": ".py",
   "mimetype": "text/x-python",
   "name": "python",
   "nbconvert_exporter": "python",
   "pygments_lexer": "ipython3",
   "version": "3.9.6"
  }
 },
 "nbformat": 4,
 "nbformat_minor": 5
}
