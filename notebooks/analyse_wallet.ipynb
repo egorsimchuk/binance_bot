{
 "cells": [
  {
   "cell_type": "markdown",
   "id": "da951902-4883-4b26-b542-3bc74fece5a1",
   "metadata": {},
   "source": [
    "# Initialize"
   ]
  },
  {
   "cell_type": "code",
   "execution_count": null,
   "id": "d3eee435-8b34-456e-b650-34c144d79f52",
   "metadata": {},
   "outputs": [],
   "source": [
    "%load_ext autoreload\n",
    "%autoreload 2\n",
    "import sys\n",
    "sys.path.append('../')\n",
    "import pandas as pd\n",
    "import numpy as np\n",
    "import plotly.graph_objects as go\n",
    "import plotly.express as px\n",
    "pd.options.display.max_columns=None\n",
    "from src.client.client import ClientHelper\n",
    "from src.analysis.analyse import OrdersAnalyser, AssetAnalyser\n",
    "from src.utils.utils import load_api_keys_from_json"
   ]
  },
  {
   "cell_type": "code",
   "execution_count": null,
   "id": "89101fbd-75ca-421b-b289-95c82fbd81c8",
   "metadata": {},
   "outputs": [],
   "source": [
    "api_key, api_secret = load_api_keys_from_json('../api_key.json')\n",
    "client_helper = ClientHelper(api_key, api_secret)"
   ]
  },
  {
   "cell_type": "markdown",
   "id": "3372fbfd-d0dd-4094-ade6-a9dc2f2dc3fd",
   "metadata": {
    "tags": []
   },
   "source": [
    "# Analyze portfolio"
   ]
  },
  {
   "cell_type": "code",
   "execution_count": null,
   "id": "6af89017-bfb2-4961-ac32-45986a6fe56c",
   "metadata": {},
   "outputs": [],
   "source": [
    "prices = client_helper.query_prices()\n",
    "history_assets = client_helper.get_history_assets('SPOT', days=30)\n",
    "asset_analyser = AssetAnalyser(client_helper)\n",
    "portfolio_fig = asset_analyser.plot_asset_composition_in_usdt(history_assets, prices)\n",
    "portfolio_fig"
   ]
  },
  {
   "cell_type": "code",
   "execution_count": null,
   "id": "08bf855d-1399-49ea-82b4-01d2982ec439",
   "metadata": {},
   "outputs": [],
   "source": [
    "asset_history_fig = asset_analyser.plot_asset_usdt_value_history(history_assets)\n",
    "asset_history_fig"
   ]
  },
  {
   "cell_type": "markdown",
   "id": "92a8393a-4e27-484a-878c-4556dd69536d",
   "metadata": {},
   "source": [
    "# Analyze orders history"
   ]
  },
  {
   "cell_type": "code",
   "execution_count": null,
   "id": "764e1f41-7fb7-4c0c-86a9-26dc358e70d2",
   "metadata": {},
   "outputs": [],
   "source": [
    "orders = client_helper.get_all_orders()\n",
    "orders.head()"
   ]
  },
  {
   "cell_type": "code",
   "execution_count": null,
   "id": "feec9795-65ef-4bf0-a497-2da33c8d62b1",
   "metadata": {},
   "outputs": [],
   "source": [
    "order_analyser = OrdersAnalyser(client_helper, orders)\n",
    "mean_price = order_analyser.calculate_mean_price()\n",
    "mean_price = pd.merge(mean_price, prices.rename(columns={'price':'current_price'}), on=['base_coin','quote_coin'], how='left')\n",
    "mean_price['price_change_usd'] = mean_price['current_price'] - mean_price['average_price']\n",
    "mean_price['price_change_percent'] = mean_price['price_change_usd']/mean_price['average_price']*100\n",
    "display(mean_price.round(3))"
   ]
  },
  {
   "cell_type": "code",
   "execution_count": null,
   "id": "bb54f7cf-f7eb-44bd-88e3-594e260c2d8f",
   "metadata": {},
   "outputs": [],
   "source": [
    "for base_coin in ['CELR', 'ETH']:\n",
    "    price_history = client_helper.get_historical_prices(base_coin+'USDT', start_date='1 Jan, 2021')\n",
    "    fig = order_analyser.plot_transactions(base_coin, price_history)\n",
    "    fig.show()"
   ]
  },
  {
   "cell_type": "markdown",
   "id": "35b3d50b-210e-48f0-8cae-ad8fd60c189a",
   "metadata": {
    "tags": []
   },
   "source": [
    "# Trade"
   ]
  },
  {
   "cell_type": "code",
   "execution_count": null,
   "id": "fa4e5bf4-4ab8-475b-a437-7c2d68605a18",
   "metadata": {},
   "outputs": [],
   "source": [
    "\n",
    "# get market depth\n",
    "depth = client.get_order_book(symbol='BNBBTC')\n",
    "\n",
    "# place a test market buy order, to place an actual order use the create_order function\n",
    "order = client.create_test_order(\n",
    "    symbol='BNBBTC',\n",
    "    side=Client.SIDE_BUY,\n",
    "    type=Client.ORDER_TYPE_MARKET,\n",
    "    quantity=100)\n",
    "\n",
    "# get all symbol prices\n",
    "prices = client.get_all_tickers()\n",
    "\n",
    "# withdraw 100 ETH\n",
    "# check docs for assumptions around withdrawals\n",
    "from binance.exceptions import BinanceAPIException\n",
    "try:\n",
    "    result = client.withdraw(\n",
    "        asset='ETH',\n",
    "        address='<eth_address>',\n",
    "        amount=100)\n",
    "except BinanceAPIException as e:\n",
    "    print(e)\n",
    "else:\n",
    "    print(\"Success\")\n",
    "\n",
    "# fetch list of withdrawals\n",
    "withdraws = client.get_withdraw_history()\n",
    "\n",
    "# fetch list of ETH withdrawals\n",
    "eth_withdraws = client.get_withdraw_history(coin='ETH')\n",
    "\n",
    "# get a deposit address for BTC\n",
    "address = client.get_deposit_address(coin='BTC')\n",
    "\n",
    "# get historical kline data from any date range\n",
    "\n",
    "# fetch 1 minute klines for the last day up until now\n",
    "klines = client.get_historical_klines(\"BNBBTC\", Client.KLINE_INTERVAL_1MINUTE, \"1 day ago UTC\")\n",
    "\n",
    "# fetch 30 minute klines for the last month of 2017\n",
    "klines = client.get_historical_klines(\"ETHBTC\", Client.KLINE_INTERVAL_30MINUTE, \"1 Dec, 2017\", \"1 Jan, 2018\")\n",
    "\n",
    "# fetch weekly klines since it listed\n",
    "klines = client.get_historical_klines(\"NEOBTC\", Client.KLINE_INTERVAL_1WEEK, \"1 Jan, 2017\")\n",
    "\n",
    "# socket manager using threads\n",
    "twm = ThreadedWebsocketManager()\n",
    "twm.start()\n",
    "\n",
    "# depth cache manager using threads\n",
    "dcm = ThreadedDepthCacheManager()\n",
    "dcm.start()\n",
    "\n",
    "def handle_socket_message(msg):\n",
    "    print(f\"message type: {msg['e']}\")\n",
    "    print(msg)\n",
    "\n",
    "def handle_dcm_message(depth_cache):\n",
    "    print(f\"symbol {depth_cache.symbol}\")\n",
    "    print(\"top 5 bids\")\n",
    "    print(depth_cache.get_bids()[:5])\n",
    "    print(\"top 5 asks\")\n",
    "    print(depth_cache.get_asks()[:5])\n",
    "    print(\"last update time {}\".format(depth_cache.update_time))\n",
    "\n",
    "twm.start_kline_socket(callback=handle_socket_message, symbol='BNBBTC')\n",
    "\n",
    "dcm.start_depth_cache(callback=handle_dcm_message, symbol='ETHBTC')\n",
    "\n",
    "# replace with a current options symbol\n",
    "options_symbol = 'BTC-210430-36000-C'\n",
    "dcm.start_options_depth_cache(callback=handle_dcm_message, symbol=options_symbol)\n",
    "\n",
    "# join the threaded managers to the main thread\n",
    "twm.join()\n",
    "dcm.join()"
   ]
  }
 ],
 "metadata": {
  "kernelspec": {
   "display_name": "Python 3 (ipykernel)",
   "language": "python",
   "name": "python3"
  },
  "language_info": {
   "codemirror_mode": {
    "name": "ipython",
    "version": 3
   },
   "file_extension": ".py",
   "mimetype": "text/x-python",
   "name": "python",
   "nbconvert_exporter": "python",
   "pygments_lexer": "ipython3",
   "version": "3.8.8"
  }
 },
 "nbformat": 4,
 "nbformat_minor": 5
}
